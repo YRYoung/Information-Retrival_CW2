{
 "cells": [
  {
   "cell_type": "markdown",
   "id": "dae2114d",
   "metadata": {},
   "source": [
    "\n",
    "LambdaMART Model (LM) (25 marks)\n",
    "-------------------------------------------------\n",
    "https://www.analyticsvidhya.com/blog/2019/02/flair-nlp-library-python/\n",
    "https://xgboost.readthedocs.io/en/stable/python/python_intro.html#data-interface\n",
    "\n",
    "Use the LambdaMART learning to rank algorithm (a variant of LambdaRank we have learned in the class)\n",
    "from XGBoost gradient boosting library to learn a model that can re-rank passages.\n",
    "\n",
    "command XGBoost to use LambdaMART algorithm for ranking\n",
    "by setting the appropriate value to the objective parameter as described in the documentation\n",
    "\n",
    "carry out hyperparameter tuning in this task\n",
    "--------------------------------------------------\n",
    "Report:\n",
    "\n",
    "    - describe the methodology used in deriving the best performing model.\n",
    "    - report the performance of your model on the validation data with metrics from eval.py\n",
    "    \n",
    "    - Describe:\n",
    "    \n",
    "        1. how you perform input processing\n",
    "        2. the representation/features used as input\n",
    "\n",
    "\n"
   ]
  },
  {
   "cell_type": "code",
   "execution_count": 1,
   "id": "69ccb4b8",
   "metadata": {},
   "outputs": [],
   "source": [
    "import pandas as pd\n",
    "import numpy as np\n",
    "import torch\n",
    "from sklearn import model_selection\n",
    "from sklearn.metrics import make_scorer\n",
    "\n",
    "import xgboost as xgb\n",
    "\n",
    "from icecream import ic\n",
    "# from xgboostextension import XGBRanker\n",
    "from xgboostextension.scorer import RankingScorer\n",
    "from xgboostextension.scorer.metrics import ndcg\n",
    "\n",
    "from huepy import *\n",
    "from LogisticRegression import DataLoader\n",
    "from eval import init_evaluator, eval_per_query, eval_dataframe\n",
    "from utils import timeit, data_path, queries_embeddings, train_raw_df, load_passages_tensors, train_debug_df, val_raw_df\n"
   ]
  },
  {
   "cell_type": "code",
   "execution_count": 2,
   "id": "a6c048ac",
   "metadata": {},
   "outputs": [
    {
     "name": "stderr",
     "output_type": "stream",
     "text": [
      "100%|██████████| 30/30 [01:37<00:00,  3.25s/it]\n",
      "ic| self.N: 47771, self.num_batches: 2, self.batch_size: 47771\n"
     ]
    }
   ],
   "source": [
    "passage_tensors = load_passages_tensors()\n",
    "x_df = pd.read_parquet(train_debug_df)\n",
    "dataloader = DataLoader(x_df, len(x_df), passage_tensors)\n",
    "_,(train_x, train_y )= [(x, y) for x, y in enumerate(dataloader)][0]\n",
    "train_df = dataloader.df\n",
    "del dataloader\n",
    "\n"
   ]
  },
  {
   "cell_type": "code",
   "execution_count": 3,
   "id": "ff81b33d",
   "metadata": {},
   "outputs": [],
   "source": [
    "val_df = pd.read_parquet(val_raw_df)\n",
    "del val_df['query']\n",
    "del val_df['passage']\n",
    "del val_df['pid']\n",
    "del val_df['p_idx']\n",
    "x_val = torch.load('./data/val_embeddings.pth')[0].reshape(-1,600)"
   ]
  },
  {
   "cell_type": "code",
   "execution_count": 4,
   "id": "1f3be181",
   "metadata": {},
   "outputs": [
    {
     "name": "stderr",
     "output_type": "stream",
     "text": [
      "100%|██████████| 30/30 [01:36<00:00,  3.22s/it]\n"
     ]
    }
   ],
   "source": [
    "passage_tensors = load_passages_tensors()"
   ]
  },
  {
   "cell_type": "code",
   "execution_count": 5,
   "id": "551fefc9",
   "metadata": {},
   "outputs": [
    {
     "data": {
      "text/html": [
       "<div>\n",
       "<style scoped>\n",
       "    .dataframe tbody tr th:only-of-type {\n",
       "        vertical-align: middle;\n",
       "    }\n",
       "\n",
       "    .dataframe tbody tr th {\n",
       "        vertical-align: top;\n",
       "    }\n",
       "\n",
       "    .dataframe thead th {\n",
       "        text-align: right;\n",
       "    }\n",
       "</style>\n",
       "<table border=\"1\" class=\"dataframe\">\n",
       "  <thead>\n",
       "    <tr style=\"text-align: right;\">\n",
       "      <th></th>\n",
       "      <th>qid</th>\n",
       "      <th>pid</th>\n",
       "      <th>relevancy</th>\n",
       "      <th>q_idx</th>\n",
       "    </tr>\n",
       "  </thead>\n",
       "  <tbody>\n",
       "    <tr>\n",
       "      <th>4083931</th>\n",
       "      <td>2</td>\n",
       "      <td>4339068</td>\n",
       "      <td>1.0</td>\n",
       "      <td>0</td>\n",
       "    </tr>\n",
       "    <tr>\n",
       "      <th>4342040</th>\n",
       "      <td>2</td>\n",
       "      <td>857994</td>\n",
       "      <td>0.0</td>\n",
       "      <td>0</td>\n",
       "    </tr>\n",
       "    <tr>\n",
       "      <th>3541247</th>\n",
       "      <td>2</td>\n",
       "      <td>3395119</td>\n",
       "      <td>0.0</td>\n",
       "      <td>0</td>\n",
       "    </tr>\n",
       "    <tr>\n",
       "      <th>3403841</th>\n",
       "      <td>2</td>\n",
       "      <td>1159026</td>\n",
       "      <td>0.0</td>\n",
       "      <td>0</td>\n",
       "    </tr>\n",
       "    <tr>\n",
       "      <th>2628639</th>\n",
       "      <td>2</td>\n",
       "      <td>4406386</td>\n",
       "      <td>0.0</td>\n",
       "      <td>0</td>\n",
       "    </tr>\n",
       "    <tr>\n",
       "      <th>...</th>\n",
       "      <td>...</td>\n",
       "      <td>...</td>\n",
       "      <td>...</td>\n",
       "      <td>...</td>\n",
       "    </tr>\n",
       "    <tr>\n",
       "      <th>51778</th>\n",
       "      <td>1102400</td>\n",
       "      <td>1828800</td>\n",
       "      <td>0.0</td>\n",
       "      <td>4589</td>\n",
       "    </tr>\n",
       "    <tr>\n",
       "      <th>659754</th>\n",
       "      <td>1102400</td>\n",
       "      <td>3863416</td>\n",
       "      <td>0.0</td>\n",
       "      <td>4589</td>\n",
       "    </tr>\n",
       "    <tr>\n",
       "      <th>968945</th>\n",
       "      <td>1102400</td>\n",
       "      <td>991043</td>\n",
       "      <td>0.0</td>\n",
       "      <td>4589</td>\n",
       "    </tr>\n",
       "    <tr>\n",
       "      <th>1664691</th>\n",
       "      <td>1102400</td>\n",
       "      <td>4464638</td>\n",
       "      <td>0.0</td>\n",
       "      <td>4589</td>\n",
       "    </tr>\n",
       "    <tr>\n",
       "      <th>4198379</th>\n",
       "      <td>1102400</td>\n",
       "      <td>6238964</td>\n",
       "      <td>0.0</td>\n",
       "      <td>4589</td>\n",
       "    </tr>\n",
       "  </tbody>\n",
       "</table>\n",
       "<p>47771 rows × 4 columns</p>\n",
       "</div>"
      ],
      "text/plain": [
       "             qid      pid  relevancy  q_idx\n",
       "4083931        2  4339068        1.0      0\n",
       "4342040        2   857994        0.0      0\n",
       "3541247        2  3395119        0.0      0\n",
       "3403841        2  1159026        0.0      0\n",
       "2628639        2  4406386        0.0      0\n",
       "...          ...      ...        ...    ...\n",
       "51778    1102400  1828800        0.0   4589\n",
       "659754   1102400  3863416        0.0   4589\n",
       "968945   1102400   991043        0.0   4589\n",
       "1664691  1102400  4464638        0.0   4589\n",
       "4198379  1102400  6238964        0.0   4589\n",
       "\n",
       "[47771 rows x 4 columns]"
      ]
     },
     "execution_count": 5,
     "metadata": {},
     "output_type": "execute_result"
    }
   ],
   "source": [
    "_,counts=np.unique(train_df.qid,return_counts=True)\n",
    "q_idx = np.arange(0,len(counts)).repeat(counts)\n",
    "\n",
    "\n",
    "train_df.loc[:,'q_idx']=q_idx\n",
    "train_df"
   ]
  },
  {
   "cell_type": "code",
   "execution_count": 6,
   "id": "07c333ca",
   "metadata": {},
   "outputs": [],
   "source": [
    "ranker = xgb.XGBRanker(n_estimators=1, \n",
    "                       max_depth=15, \n",
    "                       learning_rate=0.1,\n",
    "                       gamma=1,\n",
    "                       objective='rank:ndcg')"
   ]
  },
  {
   "cell_type": "code",
   "execution_count": 7,
   "id": "c8232766",
   "metadata": {},
   "outputs": [
    {
     "data": {
      "text/plain": [
       "(array([0.01466318, 0.01753948, 0.02140657]),\n",
       " array([0.0147436 , 0.02150925, 0.05183143]))"
      ]
     },
     "execution_count": 7,
     "metadata": {},
     "output_type": "execute_result"
    }
   ],
   "source": [
    "ranker.fit(train_x, train_y, qid=q_idx)\n",
    "pred=ranker.predict(x_val)\n",
    "\n",
    "evaluator=init_evaluator(at=[3, 10, 100], x_val_handler=None,prepare_x=False)\n",
    "evaluator(pred)"
   ]
  },
  {
   "cell_type": "code",
   "execution_count": 8,
   "id": "7fa77d8b",
   "metadata": {},
   "outputs": [],
   "source": [
    "from sklearn.model_selection import ParameterGrid\n",
    "param_dicts = {\n",
    "\n",
    "    'max_depth': [10,15,20],\n",
    "#     'learning_rate ': [0.1, 0.5],\n",
    "    'n_estimators': [5,10,15],\n",
    "#     'booster': ['gbtree', 'dart'],\n",
    "    'gamma': [.5, 1, 2]\n",
    "\n",
    "}\n",
    "param_grid = list(ParameterGrid(param_dicts))\n"
   ]
  },
  {
   "cell_type": "code",
   "execution_count": 18,
   "id": "77e1abfd",
   "metadata": {
    "scrolled": true
   },
   "outputs": [
    {
     "name": "stdout",
     "output_type": "stream",
     "text": [
      "0 {'gamma': 0.5, 'max_depth': 10, 'n_estimators': 5}\tNDCG @ 100: 0.53503\n",
      "1 {'gamma': 0.5, 'max_depth': 10, 'n_estimators': 10}\tNDCG @ 100: 0.54381\n",
      "2 {'gamma': 0.5, 'max_depth': 10, 'n_estimators': 15}\tNDCG @ 100: 0.54933\n",
      "3 {'gamma': 0.5, 'max_depth': 15, 'n_estimators': 5}\tNDCG @ 100: 0.53565\n",
      "4 {'gamma': 0.5, 'max_depth': 15, 'n_estimators': 10}\tNDCG @ 100: 0.54221\n",
      "5 {'gamma': 0.5, 'max_depth': 15, 'n_estimators': 15}\tNDCG @ 100: 0.54315\n",
      "6 {'gamma': 0.5, 'max_depth': 20, 'n_estimators': 5}\tNDCG @ 100: 0.53550\n",
      "7 {'gamma': 0.5, 'max_depth': 20, 'n_estimators': 10}\tNDCG @ 100: 0.54045\n",
      "8 {'gamma': 0.5, 'max_depth': 20, 'n_estimators': 15}\tNDCG @ 100: 0.54284\n",
      "9 {'gamma': 1, 'max_depth': 10, 'n_estimators': 5}\tNDCG @ 100: 0.52726\n",
      "10 {'gamma': 1, 'max_depth': 10, 'n_estimators': 10}\tNDCG @ 100: 0.53677\n",
      "11 {'gamma': 1, 'max_depth': 10, 'n_estimators': 15}\tNDCG @ 100: 0.54370\n",
      "12 {'gamma': 1, 'max_depth': 15, 'n_estimators': 5}\tNDCG @ 100: 0.53964\n",
      "13 {'gamma': 1, 'max_depth': 15, 'n_estimators': 10}\tNDCG @ 100: 0.54493\n",
      "14 {'gamma': 1, 'max_depth': 15, 'n_estimators': 15}\tNDCG @ 100: 0.54908\n",
      "15 {'gamma': 1, 'max_depth': 20, 'n_estimators': 5}\tNDCG @ 100: 0.53290\n",
      "16 {'gamma': 1, 'max_depth': 20, 'n_estimators': 10}\tNDCG @ 100: 0.54034\n",
      "17 {'gamma': 1, 'max_depth': 20, 'n_estimators': 15}\tNDCG @ 100: 0.54466\n",
      "18 {'gamma': 2, 'max_depth': 10, 'n_estimators': 5}\tNDCG @ 100: 0.53105\n",
      "19 {'gamma': 2, 'max_depth': 10, 'n_estimators': 10}\tNDCG @ 100: 0.53630\n",
      "20 {'gamma': 2, 'max_depth': 10, 'n_estimators': 15}\tNDCG @ 100: 0.54338\n",
      "21 {'gamma': 2, 'max_depth': 15, 'n_estimators': 5}\tNDCG @ 100: 0.53820\n",
      "22 {'gamma': 2, 'max_depth': 15, 'n_estimators': 10}\tNDCG @ 100: 0.54674\n",
      "23 {'gamma': 2, 'max_depth': 15, 'n_estimators': 15}\tNDCG @ 100: 0.54960\n",
      "24 {'gamma': 2, 'max_depth': 20, 'n_estimators': 5}\tNDCG @ 100: 0.53693\n",
      "25 {'gamma': 2, 'max_depth': 20, 'n_estimators': 10}\tNDCG @ 100: 0.54094\n",
      "26 {'gamma': 2, 'max_depth': 20, 'n_estimators': 15}\tNDCG @ 100: 0.54101\n",
      "final:{'gamma': 2, 'max_depth': 15, 'n_estimators': 15}\n"
     ]
    }
   ],
   "source": [
    "from sklearn.model_selection import ParameterGrid\n",
    "param_dicts = {\n",
    "\n",
    "    'max_depth': [10,15,20],\n",
    "#     'learning_rate ': [0.1, 0.5],\n",
    "    'n_estimators': [5,10,15],\n",
    "#     'booster': ['gbtree', 'dart'],\n",
    "    'gamma': [.5, 1, 2]\n",
    "\n",
    "}\n",
    "param_grid = list(ParameterGrid(param_dicts))\n",
    "def cross_val(train_x, train_y, param_grid=param_grid):\n",
    "    \n",
    "\n",
    "    n_splits = 5\n",
    "    cv = model_selection.GroupKFold(n_splits=n_splits)\n",
    "    at = [100]\n",
    "    all_ndcg = np.zeros(len(param_grid))\n",
    "    for count, params in enumerate(param_grid):\n",
    "        print(count, params, end='')\n",
    "\n",
    "\n",
    "        for i, (train_index, test_index) in enumerate(cv.split(train_x, train_y, groups=q_idx)):\n",
    "            ranker = xgb.XGBRanker(learning_rate=0.1, objective='rank:ndcg', **params)\n",
    "            ranker.fit(train_x[train_index, ...], train_y[train_index, ...], qid=q_idx[train_index, ...])\n",
    "\n",
    "            # predict\n",
    "            pred = ranker.predict(train_x[test_index, ...])\n",
    "            train_df_now = train_df.iloc[test_index, :].copy()\n",
    "\n",
    "            _, avg_ndcg = eval_dataframe(train_df_now, pred, at)\n",
    "            all_ndcg[count] += avg_ndcg     \n",
    "\n",
    "    #         [print(orange(italic(f'NDCG @ {now}: {value}'))) for now, value in zip(at, avg_ndcg)]\n",
    "\n",
    "        all_ndcg[count] /= n_splits\n",
    "        print(f'\\tNDCG @ 100: {all_ndcg[count] :.5f}')\n",
    "\n",
    "    best = param_grid[np.argmax(all_ndcg)]\n",
    "    print(f'final:{best}')\n",
    "    \n",
    "    return best\n",
    "\n",
    "\n",
    "\n",
    "        \n",
    "    "
   ]
  },
  {
   "cell_type": "code",
   "execution_count": 6,
   "id": "983febdf",
   "metadata": {},
   "outputs": [],
   "source": [
    "best={'gamma': 2, 'max_depth': 15, 'n_estimators': 15}\n",
    "\n"
   ]
  },
  {
   "cell_type": "code",
   "execution_count": null,
   "id": "ceb82ca9",
   "metadata": {},
   "outputs": [],
   "source": [
    "df_raw = pd.read_parquet(train_raw_df)\n",
    "dataloader = DataLoader(df_raw, len(df_raw)-1, passage_tensors)\n",
    "_,(x_raw, y_raw) = [(x, y) for x, y in enumerate(dataloader)][0]\n",
    "row_df = dataloader.df\n",
    "del dataloader\n",
    "\n",
    "_, counts = np.unique(row_df.qid,return_counts=True)\n",
    "\n",
    "\n",
    "row_df.loc[:,'q_idx'] = np.arange(0,len(counts)).repeat(counts)\n",
    "\n"
   ]
  },
  {
   "cell_type": "code",
   "execution_count": null,
   "id": "f4643ed4",
   "metadata": {},
   "outputs": [],
   "source": [
    "print('start fit')\n",
    "\n",
    "best_ranker = xgb.XGBRanker(learning_rate=0.1, objective='rank:ndcg', **best)\n",
    "best_ranker.fit(x_raw, y_raw, qid=row_df.q_idx.values[:-1])\n"
   ]
  },
  {
   "cell_type": "code",
   "execution_count": 15,
   "id": "964ed8be",
   "metadata": {},
   "outputs": [
    {
     "name": "stdout",
     "output_type": "stream",
     "text": [
      "\u001b[34m\u001b[3mmAP @ 3: 0.007694541231126596\u001b[0m\u001b[0m\n",
      "\u001b[34m\u001b[3mmAP @ 10: 0.013737486864664566\u001b[0m\u001b[0m\n",
      "\u001b[34m\u001b[3mmAP @ 100: 0.01888022919579131\u001b[0m\u001b[0m\n",
      "\u001b[33m\u001b[3mNDCG @ 3: 0.008845512863987182\u001b[0m\u001b[0m\n",
      "\u001b[33m\u001b[3mNDCG @ 10: 0.02201075316100031\u001b[0m\u001b[0m\n",
      "\u001b[33m\u001b[3mNDCG @ 100: 0.0565087289259376\u001b[0m\u001b[0m\n"
     ]
    },
    {
     "data": {
      "text/plain": [
       "(array([0.00769454, 0.01373749, 0.01888023]),\n",
       " array([0.00884551, 0.02201075, 0.05650873]))"
      ]
     },
     "execution_count": 15,
     "metadata": {},
     "output_type": "execute_result"
    }
   ],
   "source": [
    "evaluator=init_evaluator(at=[3, 10, 100], x_val_handler=None,prepare_x=False)\n",
    "evaluator(best_ranker.predict(x_val))"
   ]
  },
  {
   "cell_type": "code",
   "execution_count": null,
   "id": "fc37ecab",
   "metadata": {},
   "outputs": [],
   "source": []
  }
 ],
 "metadata": {
  "kernelspec": {
   "display_name": "Python 3 (ipykernel)",
   "language": "python",
   "name": "python3"
  },
  "language_info": {
   "codemirror_mode": {
    "name": "ipython",
    "version": 3
   },
   "file_extension": ".py",
   "mimetype": "text/x-python",
   "name": "python",
   "nbconvert_exporter": "python",
   "pygments_lexer": "ipython3",
   "version": "3.9.14"
  }
 },
 "nbformat": 4,
 "nbformat_minor": 5
}
